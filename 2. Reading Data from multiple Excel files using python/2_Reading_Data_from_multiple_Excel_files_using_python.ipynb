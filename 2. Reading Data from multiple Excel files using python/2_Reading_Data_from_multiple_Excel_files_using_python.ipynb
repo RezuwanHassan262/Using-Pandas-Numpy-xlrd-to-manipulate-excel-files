{
  "nbformat": 4,
  "nbformat_minor": 0,
  "metadata": {
    "colab": {
      "name": "2. Reading Data from multiple Excel files using python",
      "provenance": []
    },
    "kernelspec": {
      "name": "python3",
      "display_name": "Python 3"
    },
    "language_info": {
      "name": "python"
    }
  },
  "cells": [
    {
      "cell_type": "code",
      "metadata": {
        "id": "DPx-8PdXK7SV"
      },
      "source": [
        "# Code to read csv file into colaboratory:\n",
        "!pip install -U -q PyDrive\n",
        "from pydrive.auth import GoogleAuth\n",
        "from pydrive.drive import GoogleDrive\n",
        "from google.colab import auth\n",
        "from oauth2client.client import GoogleCredentials"
      ],
      "execution_count": 1,
      "outputs": []
    },
    {
      "cell_type": "code",
      "metadata": {
        "id": "JsRyw-J2LFHc"
      },
      "source": [
        "auth.authenticate_user()\n",
        "gauth = GoogleAuth()\n",
        "gauth.credentials = GoogleCredentials.get_application_default()\n",
        "drive = GoogleDrive(gauth)"
      ],
      "execution_count": 2,
      "outputs": []
    },
    {
      "cell_type": "code",
      "metadata": {
        "id": "I3Qv82DOLH0m"
      },
      "source": [
        "downloaded = drive.CreateFile({'id':'1RbG76av_2kFXsKv_RstsC3PTmSXkcPp9'}) # replace the id with id of file you want to access\n",
        "downloaded.GetContentFile('SampleData.xlsx')"
      ],
      "execution_count": 3,
      "outputs": []
    },
    {
      "cell_type": "code",
      "metadata": {
        "id": "tQzRER-RMRcf"
      },
      "source": [
        "downloaded = drive.CreateFile({'id':'1Jet3cbsqydsYwktspbIsscFl250BTRQU'}) # replace the id with id of file you want to access\n",
        "downloaded.GetContentFile('SampleData3.xlsx')"
      ],
      "execution_count": 5,
      "outputs": []
    },
    {
      "cell_type": "code",
      "metadata": {
        "colab": {
          "base_uri": "https://localhost:8080/"
        },
        "id": "pfEUF2DRLQ3y",
        "outputId": "905a7a92-e51c-4c16-e745-5edeb5e25ee8"
      },
      "source": [
        "import xlrd\n",
        "\n",
        "path1 = \"SampleData.xlsx\"\n",
        "path2 = \"SampleData3.xlsx\"\n",
        "\n",
        "inputWorkbook1 = xlrd.open_workbook(path1)\n",
        "inputWorksheet1 = inputWorkbook1.sheet_by_index(0)\n",
        "inputWorkbook2 = xlrd.open_workbook(path2)\n",
        "inputWorksheet2 = inputWorkbook2.sheet_by_index(0)\n",
        "\n",
        "rep = list()\n",
        "item = list()\n",
        "c = 2\n",
        "d = 2\n",
        "n = 1\n",
        "while n <= a-2:\n",
        "  e = inputWorksheet1.cell_value(c,d)\n",
        "  rep.append(e)\n",
        "  n += 1\n",
        "  c += 1\n",
        "  if n == 44:\n",
        "    c = 2\n",
        "    d = 4\n",
        "    n = 1\n",
        "    while n<= a-2:\n",
        "      e = inputWorksheet2.cell_value(c,d)\n",
        "      item.append(e)\n",
        "      n += 1\n",
        "      c += 1\n",
        "      if n == 44:\n",
        "        break\n",
        "      else:\n",
        "        continue\n",
        "  else:\n",
        "    continue\n",
        "x = 0\n",
        "while x != len(rep):\n",
        "  print(x, rep[x], \"|\", item[x])\n",
        "  x += 1"
      ],
      "execution_count": 6,
      "outputs": [
        {
          "output_type": "stream",
          "text": [
            "0 Jones | 100.0\n",
            "1 Kivell | 150.0\n",
            "2 Jardine | 200.0\n",
            "3 Gill | 250.0\n",
            "4 Sorvino | 300.0\n",
            "5 Jones | 350.0\n",
            "6 Andrews | 400.0\n",
            "7 Jardine | 450.0\n",
            "8 Thompson | 500.0\n",
            "9 Jones | 550.0\n",
            "10 Morgan | 600.0\n",
            "11 Howard | 650.0\n",
            "12 Parent | 700.0\n",
            "13 Jones | 750.0\n",
            "14 Smith | 800.0\n",
            "15 Jones | 850.0\n",
            "16 Morgan | 900.0\n",
            "17 Jones | 950.0\n",
            "18 Parent | 1000.0\n",
            "19 Kivell | 1050.0\n",
            "20 Smith | 1100.0\n",
            "21 Parent | 1150.0\n",
            "22 Gill | 1200.0\n",
            "23 Smith | 1250.0\n",
            "24 Jones | 1300.0\n",
            "25 Sorvino | 1350.0\n",
            "26 Jardine | 1400.0\n",
            "27 Andrews | 1450.0\n",
            "28 Howard | 1500.0\n",
            "29 Gill | 1550.0\n",
            "30 Gill | 1600.0\n",
            "31 Kivell | 1650.0\n",
            "32 Jones | 1700.0\n",
            "33 Morgan | 1750.0\n",
            "34 Kivell | 1800.0\n",
            "35 Sorvino | 1850.0\n",
            "36 Gill | 1900.0\n",
            "37 Sorvino | 1950.0\n",
            "38 Thompson | 2000.0\n",
            "39 Andrews | 2050.0\n",
            "40 Jardine | 2100.0\n",
            "41 Jardine | 2150.0\n",
            "42 Andrews | 2200.0\n"
          ],
          "name": "stdout"
        }
      ]
    },
    {
      "cell_type": "code",
      "metadata": {
        "id": "7Dc5QovALQs8"
      },
      "source": [
        ""
      ],
      "execution_count": null,
      "outputs": []
    }
  ]
}