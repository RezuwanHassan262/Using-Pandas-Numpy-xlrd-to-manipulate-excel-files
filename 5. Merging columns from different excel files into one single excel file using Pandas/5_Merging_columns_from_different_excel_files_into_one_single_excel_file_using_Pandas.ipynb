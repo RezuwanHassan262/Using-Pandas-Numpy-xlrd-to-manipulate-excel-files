{
  "nbformat": 4,
  "nbformat_minor": 0,
  "metadata": {
    "colab": {
      "name": "5. Merging columns from different excel files into one single excel file using Pandas",
      "provenance": []
    },
    "kernelspec": {
      "name": "python3",
      "display_name": "Python 3"
    },
    "language_info": {
      "name": "python"
    }
  },
  "cells": [
    {
      "cell_type": "code",
      "metadata": {
        "id": "DPx-8PdXK7SV"
      },
      "source": [
        "# Code to read csv file into colaboratory:\n",
        "!pip install -U -q PyDrive\n",
        "from pydrive.auth import GoogleAuth\n",
        "from pydrive.drive import GoogleDrive\n",
        "from google.colab import auth\n",
        "from oauth2client.client import GoogleCredentials"
      ],
      "execution_count": null,
      "outputs": []
    },
    {
      "cell_type": "code",
      "metadata": {
        "id": "JsRyw-J2LFHc"
      },
      "source": [
        "auth.authenticate_user()\n",
        "gauth = GoogleAuth()\n",
        "gauth.credentials = GoogleCredentials.get_application_default()\n",
        "drive = GoogleDrive(gauth)"
      ],
      "execution_count": null,
      "outputs": []
    },
    {
      "cell_type": "code",
      "metadata": {
        "id": "tQzRER-RMRcf"
      },
      "source": [
        "downloaded = drive.CreateFile({'id':'1RbG76av_2kFXsKv_RstsC3PTmSXkcPp9'}) # replace the id with id of file you want to access\n",
        "downloaded.GetContentFile('SampleData.xlsx')"
      ],
      "execution_count": null,
      "outputs": []
    },
    {
      "cell_type": "code",
      "metadata": {
        "id": "FIsWCEcOHlZT"
      },
      "source": [
        "downloaded = drive.CreateFile({'id':'10xUlClZ2xbfFLrwUl40HAe4ELOvJV2BO'}) # replace the id with id of file you want to access\n",
        "downloaded.GetContentFile('SampleData3.xlsx')"
      ],
      "execution_count": null,
      "outputs": []
    },
    {
      "cell_type": "code",
      "metadata": {
        "id": "DuLR9-XCIMlW"
      },
      "source": [
        "downloaded = drive.CreateFile({'id':'10xUlClZ2xbfFLrwUl40HAe4ELOvJV2BO'}) # replace the id with id of file you want to access\n",
        "downloaded.GetContentFile('SampleData4.xlsx')"
      ],
      "execution_count": null,
      "outputs": []
    },
    {
      "cell_type": "code",
      "metadata": {
        "id": "gKSf9MwHTjZ1"
      },
      "source": [
        "import pandas as pd\n",
        "\n",
        "path0 = \"SampleData.xlsx\"\n",
        "path1 = \"SampleData3.xlsx\"\n",
        "path2 = \"SampleData4.xlsx\"\n",
        "\n",
        "df0 = pd.read_excel(path0)\n",
        "df1 = pd.read_excel(path1)\n",
        "df2 = pd.read_excel(path2)\n",
        "\n",
        "values0 = df0[['Rep']]\n",
        "values1 = df1[['Units']]\n",
        "values2 = df2[['Total']]\n",
        "\n",
        "dataframes = [values0, values1, values2]\n",
        "join = pd.concat(dataframes, axis = 1 ,ignore_index=True)\n",
        "join.to_excel(\"output_final.xlsx\")"
      ],
      "execution_count": 34,
      "outputs": []
    },
    {
      "cell_type": "code",
      "metadata": {
        "id": "vhaVbrGPI4xL"
      },
      "source": [
        ""
      ],
      "execution_count": null,
      "outputs": []
    }
  ]
}