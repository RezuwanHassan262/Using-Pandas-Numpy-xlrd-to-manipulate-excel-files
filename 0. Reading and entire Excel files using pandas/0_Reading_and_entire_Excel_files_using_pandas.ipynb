{
  "nbformat": 4,
  "nbformat_minor": 0,
  "metadata": {
    "colab": {
      "name": "0. Reading and entire Excel files using pandas",
      "provenance": []
    },
    "kernelspec": {
      "name": "python3",
      "display_name": "Python 3"
    },
    "language_info": {
      "name": "python"
    }
  },
  "cells": [
    {
      "cell_type": "code",
      "metadata": {
        "id": "DPx-8PdXK7SV"
      },
      "source": [
        "# Code to read csv file into colaboratory:\n",
        "!pip install -U -q PyDrive\n",
        "from pydrive.auth import GoogleAuth\n",
        "from pydrive.drive import GoogleDrive\n",
        "from google.colab import auth\n",
        "from oauth2client.client import GoogleCredentials"
      ],
      "execution_count": 15,
      "outputs": []
    },
    {
      "cell_type": "code",
      "metadata": {
        "id": "JsRyw-J2LFHc"
      },
      "source": [
        "auth.authenticate_user()\n",
        "gauth = GoogleAuth()\n",
        "gauth.credentials = GoogleCredentials.get_application_default()\n",
        "drive = GoogleDrive(gauth)"
      ],
      "execution_count": 16,
      "outputs": []
    },
    {
      "cell_type": "code",
      "metadata": {
        "id": "tQzRER-RMRcf"
      },
      "source": [
        "downloaded = drive.CreateFile({'id':'10xUlClZ2xbfFLrwUl40HAe4ELOvJV2BO'}) # replace the id with id of file you want to access\n",
        "downloaded.GetContentFile('SampleData4.xlsx')"
      ],
      "execution_count": 17,
      "outputs": []
    },
    {
      "cell_type": "code",
      "metadata": {
        "colab": {
          "base_uri": "https://localhost:8080/"
        },
        "id": "gKSf9MwHTjZ1",
        "outputId": "12444d50-08a1-46f4-df94-cb1a57efe32f"
      },
      "source": [
        "import pandas as pd\n",
        "path1 = \"SampleData.xlsx\"\n",
        "df1 = pd.read_excel(path1)\n",
        "\n",
        "print(df1)"
      ],
      "execution_count": 18,
      "outputs": [
        {
          "output_type": "stream",
          "text": [
            "              OrderDate   Region       Rep     Item  Units Unit Cost    Total\n",
            "0             OrderDate   Region       Rep     Item  Units  UnitCost    Total\n",
            "1   2019-01-06 00:00:00     East     Jones   Pencil     95      1.99   189.05\n",
            "2   2019-01-23 00:00:00  Central    Kivell   Binder     50     19.99    999.5\n",
            "3   2019-02-09 00:00:00  Central   Jardine   Pencil     36      4.99   179.64\n",
            "4   2019-02-26 00:00:00  Central      Gill      Pen     27     19.99   539.73\n",
            "5   2019-03-15 00:00:00     West   Sorvino   Pencil     56      2.99   167.44\n",
            "6   2019-04-01 00:00:00     East     Jones   Binder     60      4.99    299.4\n",
            "7   2019-04-18 00:00:00  Central   Andrews   Pencil     75       NaN   149.25\n",
            "8   2019-05-05 00:00:00  Central   Jardine   Pencil     90      4.99    449.1\n",
            "9   2019-05-22 00:00:00     West  Thompson   Pencil     32      1.99    63.68\n",
            "10  2019-06-08 00:00:00     East     Jones   Binder     60      8.99    539.4\n",
            "11  2019-06-25 00:00:00  Central    Morgan   Pencil     90      4.99    449.1\n",
            "12  2019-07-12 00:00:00     East    Howard   Binder     29      1.99    57.71\n",
            "13  2019-07-29 00:00:00     East    Parent   Binder     81     19.99  1619.19\n",
            "14  2019-08-15 00:00:00     East     Jones   Pencil     35      4.99   174.65\n",
            "15  2019-09-01 00:00:00  Central     Smith     Desk      2       125      250\n",
            "16  2019-09-18 00:00:00     East     Jones  Pen Set     16     15.99   255.84\n",
            "17  2019-10-05 00:00:00  Central    Morgan   Binder     28      8.99   251.72\n",
            "18  2019-10-22 00:00:00     East     Jones      Pen     64      8.99   575.36\n",
            "19  2019-11-08 00:00:00     East    Parent      Pen     15     19.99   299.85\n",
            "20  2019-11-25 00:00:00  Central    Kivell  Pen Set     96      4.99   479.04\n",
            "21  2019-12-12 00:00:00  Central     Smith   Pencil     67      1.29    86.43\n",
            "22  2019-12-29 00:00:00     East    Parent  Pen Set     74     15.99  1183.26\n",
            "23  2020-01-15 00:00:00  Central      Gill   Binder     46      8.99   413.54\n",
            "24  2020-02-01 00:00:00  Central     Smith   Binder     87        15     1305\n",
            "25  2020-02-18 00:00:00     East     Jones   Binder      4      4.99    19.96\n",
            "26  2020-03-07 00:00:00     West   Sorvino   Binder      7     19.99   139.93\n",
            "27  2020-03-24 00:00:00  Central   Jardine  Pen Set     50      4.99    249.5\n",
            "28  2020-04-10 00:00:00  Central   Andrews   Pencil     66      1.99   131.34\n",
            "29  2020-04-27 00:00:00     East    Howard      Pen     96      4.99   479.04\n",
            "30  2020-05-14 00:00:00  Central      Gill   Pencil     53      1.29    68.37\n",
            "31  2020-05-31 00:00:00  Central      Gill   Binder     80      8.99    719.2\n",
            "32  2020-06-17 00:00:00  Central    Kivell     Desk      5       125      625\n",
            "33  2020-07-04 00:00:00     East     Jones  Pen Set     62      4.99   309.38\n",
            "34  2020-07-21 00:00:00  Central    Morgan  Pen Set     55     12.49   686.95\n",
            "35  2020-08-07 00:00:00  Central    Kivell  Pen Set     42     23.95   1005.9\n",
            "36  2020-08-24 00:00:00     West   Sorvino     Desk      3       275      825\n",
            "37  2020-09-10 00:00:00  Central      Gill   Pencil      7      1.29     9.03\n",
            "38  2020-09-27 00:00:00     West   Sorvino      Pen     76      1.99   151.24\n",
            "39  2020-10-14 00:00:00     West  Thompson   Binder     57     19.99  1139.43\n",
            "40  2020-10-31 00:00:00  Central   Andrews   Pencil     14      1.29    18.06\n",
            "41  2020-11-17 00:00:00  Central   Jardine   Binder     11      4.99    54.89\n",
            "42  2020-12-04 00:00:00  Central   Jardine   Binder     94     19.99  1879.06\n",
            "43  2020-12-21 00:00:00  Central   Andrews   Binder     28      4.99   139.72\n"
          ],
          "name": "stdout"
        }
      ]
    },
    {
      "cell_type": "code",
      "metadata": {
        "id": "MnYJCjXxTk0N"
      },
      "source": [
        ""
      ],
      "execution_count": null,
      "outputs": []
    }
  ]
}