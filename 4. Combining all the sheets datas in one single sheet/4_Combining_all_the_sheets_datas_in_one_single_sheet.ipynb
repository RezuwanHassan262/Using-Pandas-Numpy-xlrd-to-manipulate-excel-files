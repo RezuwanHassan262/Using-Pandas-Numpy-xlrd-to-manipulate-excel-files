{
  "nbformat": 4,
  "nbformat_minor": 0,
  "metadata": {
    "colab": {
      "name": "4. Combining all the sheets datas in one single sheet",
      "provenance": []
    },
    "kernelspec": {
      "name": "python3",
      "display_name": "Python 3"
    },
    "language_info": {
      "name": "python"
    }
  },
  "cells": [
    {
      "cell_type": "code",
      "metadata": {
        "id": "DPx-8PdXK7SV"
      },
      "source": [
        "# Code to read csv file into colaboratory:\n",
        "!pip install -U -q PyDrive\n",
        "from pydrive.auth import GoogleAuth\n",
        "from pydrive.drive import GoogleDrive\n",
        "from google.colab import auth\n",
        "from oauth2client.client import GoogleCredentials"
      ],
      "execution_count": 25,
      "outputs": []
    },
    {
      "cell_type": "code",
      "metadata": {
        "id": "JsRyw-J2LFHc"
      },
      "source": [
        "auth.authenticate_user()\n",
        "gauth = GoogleAuth()\n",
        "gauth.credentials = GoogleCredentials.get_application_default()\n",
        "drive = GoogleDrive(gauth)"
      ],
      "execution_count": 26,
      "outputs": []
    },
    {
      "cell_type": "code",
      "metadata": {
        "id": "tQzRER-RMRcf"
      },
      "source": [
        "downloaded = drive.CreateFile({'id':'1QON0M2gj698LM8hIU3n-OaM-8nTRfD0W'}) # replace the id with id of file you want to access\n",
        "downloaded.GetContentFile('ca.xlsx')"
      ],
      "execution_count": 27,
      "outputs": []
    },
    {
      "cell_type": "code",
      "metadata": {
        "id": "gKSf9MwHTjZ1"
      },
      "source": [
        "import pandas as pd\n",
        "path0 = \"ca.xlsx\"\n",
        "path1 = \"SampleData.xlsx\"\n",
        "path2 = \"SampleData4.xlsx\"\n",
        "\n",
        "df0 = pd.read_excel(path0, sheet_name = None)\n",
        "df1 = pd.read_excel(path1)\n",
        "df2 = pd.read_excel(path2)\n",
        "\n",
        "cdf = pd.concat(df0, sort = False)\n",
        "writer = pd.ExcelWriter(\"New_output.xlsx\")\n",
        "cdf.to_excel(writer)\n",
        "writer.save()"
      ],
      "execution_count": 29,
      "outputs": []
    },
    {
      "cell_type": "code",
      "metadata": {
        "id": "jXSMLckuu2lF"
      },
      "source": [
        ""
      ],
      "execution_count": null,
      "outputs": []
    }
  ]
}