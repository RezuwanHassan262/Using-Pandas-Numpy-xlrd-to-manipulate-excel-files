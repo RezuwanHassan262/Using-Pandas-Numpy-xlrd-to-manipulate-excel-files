{
  "nbformat": 4,
  "nbformat_minor": 0,
  "metadata": {
    "colab": {
      "name": "3. Merging the same column values of 2 different excel sheets into one single excel sheet",
      "provenance": []
    },
    "kernelspec": {
      "name": "python3",
      "display_name": "Python 3"
    },
    "language_info": {
      "name": "python"
    }
  },
  "cells": [
    {
      "cell_type": "code",
      "metadata": {
        "id": "DPx-8PdXK7SV"
      },
      "source": [
        "# Code to read csv file into colaboratory:\n",
        "!pip install -U -q PyDrive\n",
        "from pydrive.auth import GoogleAuth\n",
        "from pydrive.drive import GoogleDrive\n",
        "from google.colab import auth\n",
        "from oauth2client.client import GoogleCredentials"
      ],
      "execution_count": 15,
      "outputs": []
    },
    {
      "cell_type": "code",
      "metadata": {
        "id": "JsRyw-J2LFHc"
      },
      "source": [
        "auth.authenticate_user()\n",
        "gauth = GoogleAuth()\n",
        "gauth.credentials = GoogleCredentials.get_application_default()\n",
        "drive = GoogleDrive(gauth)"
      ],
      "execution_count": 16,
      "outputs": []
    },
    {
      "cell_type": "code",
      "metadata": {
        "id": "tQzRER-RMRcf"
      },
      "source": [
        "downloaded = drive.CreateFile({'id':'10xUlClZ2xbfFLrwUl40HAe4ELOvJV2BO'}) # replace the id with id of file you want to access\n",
        "downloaded.GetContentFile('SampleData4.xlsx')"
      ],
      "execution_count": 17,
      "outputs": []
    },
    {
      "cell_type": "code",
      "metadata": {
        "id": "gKSf9MwHTjZ1"
      },
      "source": [
        "import pandas as pd\n",
        "path1 = \"SampleData.xlsx\"\n",
        "path2 = \"SampleData4.xlsx\"\n",
        "\n",
        "df1 = pd.read_excel(path1)\n",
        "df2 = pd.read_excel(path2)\n",
        "\n",
        "values1 = df1[['Units','Total']]\n",
        "values2 = df2[['Units','Total']]\n",
        "dataframes = [values1, values2]\n",
        "join = pd.concat(dataframes)\n",
        "join.to_excel(\"output.xlsx\")"
      ],
      "execution_count": 20,
      "outputs": []
    },
    {
      "cell_type": "code",
      "metadata": {
        "id": "MnYJCjXxTk0N"
      },
      "source": [
        ""
      ],
      "execution_count": null,
      "outputs": []
    }
  ]
}