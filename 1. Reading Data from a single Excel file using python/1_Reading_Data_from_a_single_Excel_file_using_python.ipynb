{
  "nbformat": 4,
  "nbformat_minor": 0,
  "metadata": {
    "colab": {
      "name": "1. Reading Data from a single Excel file using python.ipynb",
      "provenance": []
    },
    "kernelspec": {
      "name": "python3",
      "display_name": "Python 3"
    },
    "language_info": {
      "name": "python"
    }
  },
  "cells": [
    {
      "cell_type": "code",
      "metadata": {
        "id": "DPx-8PdXK7SV"
      },
      "source": [
        "# Code to read csv file into colaboratory:\n",
        "!pip install -U -q PyDrive\n",
        "from pydrive.auth import GoogleAuth\n",
        "from pydrive.drive import GoogleDrive\n",
        "from google.colab import auth\n",
        "from oauth2client.client import GoogleCredentials"
      ],
      "execution_count": 1,
      "outputs": []
    },
    {
      "cell_type": "code",
      "metadata": {
        "id": "JsRyw-J2LFHc"
      },
      "source": [
        "auth.authenticate_user()\n",
        "gauth = GoogleAuth()\n",
        "gauth.credentials = GoogleCredentials.get_application_default()\n",
        "drive = GoogleDrive(gauth)"
      ],
      "execution_count": 2,
      "outputs": []
    },
    {
      "cell_type": "code",
      "metadata": {
        "id": "I3Qv82DOLH0m"
      },
      "source": [
        "downloaded = drive.CreateFile({'id':'1RbG76av_2kFXsKv_RstsC3PTmSXkcPp9'}) # replace the id with id of file you want to access\n",
        "downloaded.GetContentFile('SampleData.xlsx')"
      ],
      "execution_count": 3,
      "outputs": []
    },
    {
      "cell_type": "code",
      "metadata": {
        "colab": {
          "base_uri": "https://localhost:8080/"
        },
        "id": "pfEUF2DRLQ3y",
        "outputId": "483bec34-6f26-4a13-ab88-1397660ad3f8"
      },
      "source": [
        "import xlrd\n",
        "path = \"SampleData.xlsx\"\n",
        "inputWorkbook = xlrd.open_workbook(path)\n",
        "inputWorksheet = inputWorkbook.sheet_by_index(0)\n",
        "a = inputWorksheet.nrows\n",
        "b = inputWorksheet.ncols\n",
        "rep = list()\n",
        "item = list()\n",
        "c = 2\n",
        "d = 2\n",
        "n = 1\n",
        "while n <= a-2:\n",
        "  e = inputWorksheet.cell_value(c,d)\n",
        "  rep.append(e)\n",
        "  n += 1\n",
        "  c += 1\n",
        "  if n == 44:\n",
        "    c = 2\n",
        "    d = 3\n",
        "    n = 1\n",
        "    while n<= a-2:\n",
        "      e = inputWorksheet.cell_value(c,d)\n",
        "      item.append(e)\n",
        "      n += 1\n",
        "      c += 1\n",
        "      if n == 44:\n",
        "        break\n",
        "      else:\n",
        "        continue\n",
        "  else:\n",
        "    continue\n",
        "x = 0\n",
        "while x != len(rep):\n",
        "  print(x, rep[x], \"|\", item[x])\n",
        "  x += 1"
      ],
      "execution_count": 4,
      "outputs": [
        {
          "output_type": "stream",
          "text": [
            "0 Jones | Pencil\n",
            "1 Kivell | Binder\n",
            "2 Jardine | Pencil\n",
            "3 Gill | Pen\n",
            "4 Sorvino | Pencil\n",
            "5 Jones | Binder\n",
            "6 Andrews | Pencil\n",
            "7 Jardine | Pencil\n",
            "8 Thompson | Pencil\n",
            "9 Jones | Binder\n",
            "10 Morgan | Pencil\n",
            "11 Howard | Binder\n",
            "12 Parent | Binder\n",
            "13 Jones | Pencil\n",
            "14 Smith | Desk\n",
            "15 Jones | Pen Set\n",
            "16 Morgan | Binder\n",
            "17 Jones | Pen\n",
            "18 Parent | Pen\n",
            "19 Kivell | Pen Set\n",
            "20 Smith | Pencil\n",
            "21 Parent | Pen Set\n",
            "22 Gill | Binder\n",
            "23 Smith | Binder\n",
            "24 Jones | Binder\n",
            "25 Sorvino | Binder\n",
            "26 Jardine | Pen Set\n",
            "27 Andrews | Pencil\n",
            "28 Howard | Pen\n",
            "29 Gill | Pencil\n",
            "30 Gill | Binder\n",
            "31 Kivell | Desk\n",
            "32 Jones | Pen Set\n",
            "33 Morgan | Pen Set\n",
            "34 Kivell | Pen Set\n",
            "35 Sorvino | Desk\n",
            "36 Gill | Pencil\n",
            "37 Sorvino | Pen\n",
            "38 Thompson | Binder\n",
            "39 Andrews | Pencil\n",
            "40 Jardine | Binder\n",
            "41 Jardine | Binder\n",
            "42 Andrews | Binder\n"
          ],
          "name": "stdout"
        }
      ]
    },
    {
      "cell_type": "code",
      "metadata": {
        "id": "7Dc5QovALQs8"
      },
      "source": [
        ""
      ],
      "execution_count": null,
      "outputs": []
    }
  ]
}